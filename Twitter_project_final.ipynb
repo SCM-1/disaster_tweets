{
  "nbformat": 4,
  "nbformat_minor": 0,
  "metadata": {
    "colab": {
      "name": "Twitter_project_final.ipynb",
      "provenance": []
    },
    "kernelspec": {
      "name": "python3",
      "display_name": "Python 3"
    },
    "accelerator": "GPU"
  },
  "cells": [
    {
      "cell_type": "code",
      "metadata": {
        "id": "PQUaMxCgzj0g",
        "colab_type": "code",
        "outputId": "b77ddaad-96ee-4820-b934-5c7b7ef31f3c",
        "colab": {
          "base_uri": "https://localhost:8080/",
          "height": 51
        }
      },
      "source": [
        "import numpy as np # linear algebra\n",
        "import pandas as pd # data processing, CSV file I/O (e.g. pd.read_csv)\n",
        "from sklearn import feature_extraction, linear_model, model_selection, preprocessing\n",
        "import seaborn as sns\n",
        "import matplotlib.pyplot as plt\n",
        "import re\n",
        "import string\n",
        "import tensorflow_datasets as tfds"
      ],
      "execution_count": 0,
      "outputs": [
        {
          "output_type": "stream",
          "text": [
            "/usr/local/lib/python3.6/dist-packages/statsmodels/tools/_testing.py:19: FutureWarning: pandas.util.testing is deprecated. Use the functions in the public API at pandas.testing instead.\n",
            "  import pandas.util.testing as tm\n"
          ],
          "name": "stderr"
        }
      ]
    },
    {
      "cell_type": "code",
      "metadata": {
        "id": "48RzOMq7zk5g",
        "colab_type": "code",
        "outputId": "a0e1fa6f-4845-4ad0-a4b1-48a61f1d0cf4",
        "colab": {
          "base_uri": "https://localhost:8080/",
          "height": 34
        }
      },
      "source": [
        "import tensorflow as tf \n",
        "\n",
        "tf.__version__"
      ],
      "execution_count": 0,
      "outputs": [
        {
          "output_type": "execute_result",
          "data": {
            "text/plain": [
              "'2.2.0-rc3'"
            ]
          },
          "metadata": {
            "tags": []
          },
          "execution_count": 2
        }
      ]
    },
    {
      "cell_type": "code",
      "metadata": {
        "id": "HTOLWwKSzngC",
        "colab_type": "code",
        "colab": {}
      },
      "source": [
        "train_df = pd.read_csv(\"/content/drive/My Drive/Twitter_project/train.csv\")\n",
        "test_df = pd.read_csv(\"/content/drive/My Drive/Twitter_project/test.csv\")"
      ],
      "execution_count": 0,
      "outputs": []
    },
    {
      "cell_type": "code",
      "metadata": {
        "id": "ylS7biNW3Bqa",
        "colab_type": "code",
        "outputId": "3512d89d-ee81-4e0e-d5bc-92b2c219f2c9",
        "colab": {
          "base_uri": "https://localhost:8080/",
          "height": 204
        }
      },
      "source": [
        "# Normalization\n",
        "import re\n",
        "def  clean_text(df, text_field, new_text_field_name):\n",
        "    df[new_text_field_name] = df[text_field].str.lower()\n",
        "    df[new_text_field_name] = df[new_text_field_name].apply(lambda elem: re.sub(r\"(@[A-Za-z0-9]+)|([^0-9A-Za-z \\t])|(\\w+:\\/\\/\\S+)|^rt|http.+?\", \"\", elem))  \n",
        "    # remove numbers\n",
        "    df[new_text_field_name] = df[new_text_field_name].apply(lambda elem: re.sub(r\"\\d+\", \"\", elem))\n",
        "    \n",
        "    return df\n",
        "data_clean = clean_text(train_df, 'text', 'text_clean')\n",
        "data_clean.head()"
      ],
      "execution_count": 0,
      "outputs": [
        {
          "output_type": "execute_result",
          "data": {
            "text/html": [
              "<div>\n",
              "<style scoped>\n",
              "    .dataframe tbody tr th:only-of-type {\n",
              "        vertical-align: middle;\n",
              "    }\n",
              "\n",
              "    .dataframe tbody tr th {\n",
              "        vertical-align: top;\n",
              "    }\n",
              "\n",
              "    .dataframe thead th {\n",
              "        text-align: right;\n",
              "    }\n",
              "</style>\n",
              "<table border=\"1\" class=\"dataframe\">\n",
              "  <thead>\n",
              "    <tr style=\"text-align: right;\">\n",
              "      <th></th>\n",
              "      <th>id</th>\n",
              "      <th>keyword</th>\n",
              "      <th>location</th>\n",
              "      <th>text</th>\n",
              "      <th>target</th>\n",
              "      <th>text_clean</th>\n",
              "    </tr>\n",
              "  </thead>\n",
              "  <tbody>\n",
              "    <tr>\n",
              "      <th>0</th>\n",
              "      <td>1</td>\n",
              "      <td>NaN</td>\n",
              "      <td>NaN</td>\n",
              "      <td>Our Deeds are the Reason of this #earthquake M...</td>\n",
              "      <td>1</td>\n",
              "      <td>our deeds are the reason of this earthquake ma...</td>\n",
              "    </tr>\n",
              "    <tr>\n",
              "      <th>1</th>\n",
              "      <td>4</td>\n",
              "      <td>NaN</td>\n",
              "      <td>NaN</td>\n",
              "      <td>Forest fire near La Ronge Sask. Canada</td>\n",
              "      <td>1</td>\n",
              "      <td>forest fire near la ronge sask canada</td>\n",
              "    </tr>\n",
              "    <tr>\n",
              "      <th>2</th>\n",
              "      <td>5</td>\n",
              "      <td>NaN</td>\n",
              "      <td>NaN</td>\n",
              "      <td>All residents asked to 'shelter in place' are ...</td>\n",
              "      <td>1</td>\n",
              "      <td>all residents asked to shelter in place are be...</td>\n",
              "    </tr>\n",
              "    <tr>\n",
              "      <th>3</th>\n",
              "      <td>6</td>\n",
              "      <td>NaN</td>\n",
              "      <td>NaN</td>\n",
              "      <td>13,000 people receive #wildfires evacuation or...</td>\n",
              "      <td>1</td>\n",
              "      <td>people receive wildfires evacuation orders in...</td>\n",
              "    </tr>\n",
              "    <tr>\n",
              "      <th>4</th>\n",
              "      <td>7</td>\n",
              "      <td>NaN</td>\n",
              "      <td>NaN</td>\n",
              "      <td>Just got sent this photo from Ruby #Alaska as ...</td>\n",
              "      <td>1</td>\n",
              "      <td>just got sent this photo from ruby alaska as s...</td>\n",
              "    </tr>\n",
              "  </tbody>\n",
              "</table>\n",
              "</div>"
            ],
            "text/plain": [
              "   id keyword  ... target                                         text_clean\n",
              "0   1     NaN  ...      1  our deeds are the reason of this earthquake ma...\n",
              "1   4     NaN  ...      1              forest fire near la ronge sask canada\n",
              "2   5     NaN  ...      1  all residents asked to shelter in place are be...\n",
              "3   6     NaN  ...      1   people receive wildfires evacuation orders in...\n",
              "4   7     NaN  ...      1  just got sent this photo from ruby alaska as s...\n",
              "\n",
              "[5 rows x 6 columns]"
            ]
          },
          "metadata": {
            "tags": []
          },
          "execution_count": 21
        }
      ]
    },
    {
      "cell_type": "code",
      "metadata": {
        "id": "UWadGtBP36y0",
        "colab_type": "code",
        "colab": {}
      },
      "source": [
        "# Création d'un tf dataset à partir de pandas \n",
        "tf_train = tf.data.Dataset.from_tensor_slices((train_df[\"text_clean\"].values, train_df[\"target\"].values))"
      ],
      "execution_count": 0,
      "outputs": []
    },
    {
      "cell_type": "code",
      "metadata": {
        "id": "BbhBzEr2zqcv",
        "colab_type": "code",
        "colab": {}
      },
      "source": [
        "import en_core_web_sm\n",
        "nlp = en_core_web_sm.load()"
      ],
      "execution_count": 0,
      "outputs": []
    },
    {
      "cell_type": "code",
      "metadata": {
        "id": "GZtYdTbYzw-S",
        "colab_type": "code",
        "colab": {}
      },
      "source": [
        "corpus = \"|\".join(train_df[\"text_clean\"].to_list())"
      ],
      "execution_count": 0,
      "outputs": []
    },
    {
      "cell_type": "code",
      "metadata": {
        "id": "jLxI__Ndz2Sq",
        "colab_type": "code",
        "outputId": "6602d526-f18c-43cf-84ca-177951f512b8",
        "colab": {
          "base_uri": "https://localhost:8080/",
          "height": 51
        }
      },
      "source": [
        "%%time\n",
        "import time\n",
        "nlp.max_length = len(corpus)\n",
        "doc = nlp(corpus)"
      ],
      "execution_count": 0,
      "outputs": [
        {
          "output_type": "stream",
          "text": [
            "CPU times: user 15.8 s, sys: 1.03 s, total: 16.8 s\n",
            "Wall time: 16.8 s\n"
          ],
          "name": "stdout"
        }
      ]
    },
    {
      "cell_type": "code",
      "metadata": {
        "id": "ZtCvgu6J4c_l",
        "colab_type": "code",
        "colab": {}
      },
      "source": [
        "# Import Stop words \n",
        "from spacy.lang.fr.stop_words import STOP_WORDS"
      ],
      "execution_count": 0,
      "outputs": []
    },
    {
      "cell_type": "code",
      "metadata": {
        "id": "_1M41g2K4QpJ",
        "colab_type": "code",
        "outputId": "3251e3df-b6a4-4f31-a18f-8244b84b409b",
        "colab": {
          "base_uri": "https://localhost:8080/",
          "height": 236
        }
      },
      "source": [
        "from wordcloud import WordCloud\n",
        "import matplotlib.pyplot as plt\n",
        "wd = WordCloud(stopwords=STOP_WORDS)\n",
        "cloud = wd.generate(doc.text)\n",
        "plt.imshow(cloud)"
      ],
      "execution_count": 0,
      "outputs": [
        {
          "output_type": "execute_result",
          "data": {
            "text/plain": [
              "<matplotlib.image.AxesImage at 0x7f6133353b00>"
            ]
          },
          "metadata": {
            "tags": []
          },
          "execution_count": 10
        },
        {
          "output_type": "display_data",
          "data": {
            "image/png": "[encoded data removed]",
            "text/plain": [
              "<Figure size 432x288 with 1 Axes>"
            ]
          },
          "metadata": {
            "tags": [],
            "needs_background": "light"
          }
        }
      ]
    },
    {
      "cell_type": "code",
      "metadata": {
        "id": "RBJ0u-244lo2",
        "colab_type": "code",
        "outputId": "ab865578-0742-4312-c65c-b6cf2b28da43",
        "colab": {
          "base_uri": "https://localhost:8080/",
          "height": 68
        }
      },
      "source": [
        "%%time\n",
        "tokens = [token.lemma_ for token in doc if token.text not in STOP_WORDS]\n",
        "vocabulary_set= set(tokens)\n",
        "vocab_size = len(vocabulary_set)\n",
        "print(vocab_size)"
      ],
      "execution_count": 0,
      "outputs": [
        {
          "output_type": "stream",
          "text": [
            "16299\n",
            "CPU times: user 154 ms, sys: 845 µs, total: 154 ms\n",
            "Wall time: 157 ms\n"
          ],
          "name": "stdout"
        }
      ]
    },
    {
      "cell_type": "code",
      "metadata": {
        "id": "IkreOuAU4THW",
        "colab_type": "code",
        "colab": {}
      },
      "source": [
        "# Création d'un nombre pour chacun des tokens que nous avons créés au dessus\n",
        "encoder = tfds.features.text.TokenTextEncoder(vocabulary_set)"
      ],
      "execution_count": 0,
      "outputs": []
    },
    {
      "cell_type": "code",
      "metadata": {
        "id": "XyvDCxfz4igN",
        "colab_type": "code",
        "outputId": "57201270-0312-455e-d63a-e278fe85345e",
        "colab": {
          "base_uri": "https://localhost:8080/",
          "height": 51
        }
      },
      "source": [
        "# Regardons le résultat sur un exemple \n",
        "for example, _ in tf_train.take(1):\n",
        "  print(encoder.encode(example.numpy()))\n",
        "  print(example.numpy())"
      ],
      "execution_count": 0,
      "outputs": [
        {
          "output_type": "stream",
          "text": [
            "[16300, 16300, 16300, 9077, 5561, 6987, 6417, 5896, 5357, 1737, 4548, 14611, 15877]\n",
            "b'our deeds are the reason of this earthquake may allah forgive us all'\n"
          ],
          "name": "stdout"
        }
      ]
    },
    {
      "cell_type": "code",
      "metadata": {
        "id": "zQJXHZyh4qkj",
        "colab_type": "code",
        "colab": {}
      },
      "source": [
        "# Encodons maintenant tous les éléments d'un dataset\n",
        "def encode(text_tensor, label):\n",
        "  encoded_text = encoder.encode(text_tensor.numpy())\n",
        "  return encoded_text, label\n",
        "\n",
        "# Utilisation du fonction py_function pour encoder tout le dataset \n",
        "def encode_map_fn(text, label):\n",
        "  return tf.py_function(encode, inp=[text, label], Tout=(tf.int64, tf.int64))\n",
        "\n",
        "all_encoded_data = tf_train.map(encode_map_fn)"
      ],
      "execution_count": 0,
      "outputs": []
    },
    {
      "cell_type": "code",
      "metadata": {
        "id": "0csRBBLR41EO",
        "colab_type": "code",
        "colab": {}
      },
      "source": [
        "# Train Test Split\n",
        "TAKE_SIZE = int(0.7*train_df.shape[0])\n",
        "\n",
        "train_data = all_encoded_data.take(TAKE_SIZE).shuffle(50000)\n",
        "train_data = train_data.padded_batch(16,  padded_shapes=([-1], []))\n",
        "\n",
        "test_data = all_encoded_data.skip(TAKE_SIZE)\n",
        "test_data = test_data.padded_batch(16, padded_shapes=([-1], []))"
      ],
      "execution_count": 0,
      "outputs": []
    },
    {
      "cell_type": "code",
      "metadata": {
        "id": "20uClmUr42z6",
        "colab_type": "code",
        "outputId": "17cc4a6b-34e6-4d2a-e300-94cf12633e56",
        "colab": {
          "base_uri": "https://localhost:8080/",
          "height": 578
        }
      },
      "source": [
        " # Regardons un batch \n",
        "for review, star in train_data.take(1):\n",
        "  print(review, star)"
      ],
      "execution_count": 0,
      "outputs": [
        {
          "output_type": "stream",
          "text": [
            "tf.Tensor(\n",
            "[[10650 16300 16300  4000  1433 16300 11572 16300 15048 13124  2894 12755\n",
            "      0     0     0     0     0     0     0     0     0     0]\n",
            " [14904 14142  7838 16300  2522 10625  1113 13116     0     0     0     0\n",
            "      0     0     0     0     0     0     0     0     0     0]\n",
            " [ 1737 16300 16300  4446  4021  3929 16300  1206 11792  2779 16300  9077\n",
            "   3011  6987  9077  6775  6987 11166 12262  4525  3697  6731]\n",
            " [16300  5262 16300  8191   271  9077 14647 10375  8253  1492  3448     0\n",
            "      0     0     0     0     0     0     0     0     0     0]\n",
            " [16300  6444  6347   933  7764 15941 12553 16300 10635 16300 16300     0\n",
            "      0     0     0     0     0     0     0     0     0     0]\n",
            " [16300 16300  8738  7258  8783  9834 12608 12858 10322     0     0     0\n",
            "      0     0     0     0     0     0     0     0     0     0]\n",
            " [12513 15065  2563 16300   892  5475 16300 15249 16285   271 16300  3514\n",
            "  16300 12905   271 16300  8575 12206  6117 16300     0     0]\n",
            " [16300     0     0     0     0     0     0     0     0     0     0     0\n",
            "      0     0     0     0     0     0     0     0     0     0]\n",
            " [16300 16300  4862 16264  6987  6743   687 13349 12262  4487  3540     0\n",
            "      0     0     0     0     0     0     0     0     0     0]\n",
            " [12772 12912     0     0     0     0     0     0     0     0     0     0\n",
            "      0     0     0     0     0     0     0     0     0     0]\n",
            " [ 6775 15464  2260   697 16300 15046 13163  8859 16300 11891 16300  9886\n",
            "    892     0     0     0     0     0     0     0     0     0]\n",
            " [ 4803  3497 16300 10675 12553 12262 14277 15080  9077  5208 12553  5327\n",
            "   6417    92 13043 16300     0     0     0     0     0     0]\n",
            " [  455  7635 16300  2128  7258  6079 16300  1433 16300  9077   455  7635\n",
            "  16300   316 16300  8906  7258   892  2128     0     0     0]\n",
            " [ 9968  4530 16300  7258  5004  9968 14869  2578  6417   123  1433 16300\n",
            "   3314     0     0     0     0     0     0     0     0     0]\n",
            " [16300 10933 15699 16300 13877  2260 16300  1433 14043    92  9077  1878\n",
            "   6987  9077 11325 16300  4292     0     0     0     0     0]\n",
            " [16300 14706 15987  1684 16300 11990  8806  9996     0     0     0     0\n",
            "      0     0     0     0     0     0     0     0     0     0]], shape=(16, 22), dtype=int64) tf.Tensor([0 1 0 0 1 0 0 0 1 1 0 1 1 0 1 1], shape=(16,), dtype=int64)\n"
          ],
          "name": "stdout"
        }
      ]
    },
    {
      "cell_type": "code",
      "metadata": {
        "id": "mN2L5i5Z5Bvb",
        "colab_type": "code",
        "colab": {}
      },
      "source": [
        "model = tf.keras.Sequential([\n",
        "                  # Couche d'Input Word Embedding           \n",
        "                  tf.keras.layers.Embedding(encoder.vocab_size, 64),\n",
        "\n",
        "                  # Couche LSTM Bidirectionnelle\n",
        "                  tf.keras.layers.Bidirectional(tf.keras.layers.LSTM(64, return_sequences=True)),\n",
        "\n",
        "                  # Couche CNN\n",
        "                  tf.keras.layers.Conv1D(16, 3, activation=\"relu\"),\n",
        "                  \n",
        "                  # Nouvelle couche LSTM Bidirectionnel\n",
        "                  tf.keras.layers.Bidirectional(tf.keras.layers.LSTM(64, return_sequences=True)),\n",
        "                  # Nouvelle couche LSTM\n",
        "                  tf.keras.layers.LSTM(32, return_sequences=False),               \n",
        "\n",
        "                  # Couche Dense classique \n",
        "                  tf.keras.layers.Dense(64, activation='relu'),\n",
        "                  tf.keras.layers.Dense(32, activation='relu'),\n",
        "                  tf.keras.layers.Dense(16, activation='relu'),\n",
        "                  tf.keras.layers.Dense(8, activation='relu'),\n",
        "\n",
        "                  # Couche de sortie avec le nombre de neurones en sortie égale au nombre de classe avec fonction softmax\n",
        "                  tf.keras.layers.Dense(1, activation=\"sigmoid\")\n",
        "                                              \n",
        "])"
      ],
      "execution_count": 0,
      "outputs": []
    },
    {
      "cell_type": "code",
      "metadata": {
        "id": "F5mQ_0_15HXO",
        "colab_type": "code",
        "colab": {}
      },
      "source": [
        "# Créons un learning rate schedule pour décroitre le learning rate à mesure que nous entrainons le modèle \n",
        "initial_learning_rate = 0.0001\n",
        "\n",
        "lr_schedule = tf.keras.optimizers.schedules.ExponentialDecay(\n",
        "    initial_learning_rate,\n",
        "    decay_steps=2500,\n",
        "    decay_rate=0.96,\n",
        "    staircase=True)\n",
        "\n",
        "# Utilisation d'un compileur simple avec un optimiseur Adam pour le calcul de nos gradients \n",
        "optimizer= tf.keras.optimizers.Adam(\n",
        "    learning_rate = lr_schedule\n",
        ")\n",
        "\n",
        "# Création d'un compileur\n",
        "model.compile(optimizer = tf.keras.optimizers.Adam(lr_schedule),\n",
        "              loss= tf.keras.losses.binary_crossentropy,\n",
        "              metrics = [tf.keras.metrics.binary_accuracy])"
      ],
      "execution_count": 0,
      "outputs": []
    },
    {
      "cell_type": "code",
      "metadata": {
        "id": "eyiv-Mn47WXK",
        "colab_type": "code",
        "outputId": "84ed8ec4-f39b-41db-fcdb-7183634e3e06",
        "colab": {
          "base_uri": "https://localhost:8080/",
          "height": 1000
        }
      },
      "source": [
        "# Application du modèle sur 20 epochs\n",
        "history = model.fit(train_data,\n",
        "                    validation_data=test_data,\n",
        "                    epochs=40)"
      ],
      "execution_count": 0,
      "outputs": [
        {
          "output_type": "stream",
          "text": [
            "Epoch 1/40\n",
            "334/334 [==============================] - 25s 75ms/step - loss: 0.6774 - binary_accuracy: 0.5793 - val_loss: 0.6266 - val_binary_accuracy: 0.6589\n",
            "Epoch 2/40\n",
            "334/334 [==============================] - 25s 73ms/step - loss: 0.5064 - binary_accuracy: 0.7814 - val_loss: 0.5285 - val_binary_accuracy: 0.7452\n",
            "Epoch 3/40\n",
            "334/334 [==============================] - 25s 74ms/step - loss: 0.3734 - binary_accuracy: 0.8512 - val_loss: 0.5268 - val_binary_accuracy: 0.7570\n",
            "Epoch 4/40\n",
            "334/334 [==============================] - 24s 73ms/step - loss: 0.2961 - binary_accuracy: 0.8893 - val_loss: 0.5491 - val_binary_accuracy: 0.7474\n",
            "Epoch 5/40\n",
            "334/334 [==============================] - 25s 73ms/step - loss: 0.2409 - binary_accuracy: 0.9161 - val_loss: 0.6447 - val_binary_accuracy: 0.7347\n",
            "Epoch 6/40\n",
            "334/334 [==============================] - 24s 73ms/step - loss: 0.2027 - binary_accuracy: 0.9309 - val_loss: 0.7525 - val_binary_accuracy: 0.7237\n",
            "Epoch 7/40\n",
            "334/334 [==============================] - 25s 74ms/step - loss: 0.1660 - binary_accuracy: 0.9454 - val_loss: 0.7920 - val_binary_accuracy: 0.7001\n",
            "Epoch 8/40\n",
            "334/334 [==============================] - 25s 74ms/step - loss: 0.1406 - binary_accuracy: 0.9531 - val_loss: 0.8463 - val_binary_accuracy: 0.6953\n",
            "Epoch 9/40\n",
            "334/334 [==============================] - 24s 73ms/step - loss: 0.1283 - binary_accuracy: 0.9583 - val_loss: 0.7763 - val_binary_accuracy: 0.6940\n",
            "Epoch 10/40\n",
            "334/334 [==============================] - 24s 72ms/step - loss: 0.1160 - binary_accuracy: 0.9602 - val_loss: 1.0255 - val_binary_accuracy: 0.6747\n",
            "Epoch 11/40\n",
            "334/334 [==============================] - 24s 73ms/step - loss: 0.1084 - binary_accuracy: 0.9642 - val_loss: 0.9756 - val_binary_accuracy: 0.6856\n",
            "Epoch 12/40\n",
            "334/334 [==============================] - 25s 74ms/step - loss: 0.0970 - binary_accuracy: 0.9675 - val_loss: 1.1969 - val_binary_accuracy: 0.6493\n",
            "Epoch 13/40\n",
            "334/334 [==============================] - 24s 73ms/step - loss: 0.0882 - binary_accuracy: 0.9704 - val_loss: 1.0910 - val_binary_accuracy: 0.6852\n",
            "Epoch 14/40\n",
            "334/334 [==============================] - 25s 74ms/step - loss: 0.0873 - binary_accuracy: 0.9715 - val_loss: 1.1436 - val_binary_accuracy: 0.6699\n",
            "Epoch 15/40\n",
            "334/334 [==============================] - 25s 74ms/step - loss: 0.0764 - binary_accuracy: 0.9726 - val_loss: 1.2923 - val_binary_accuracy: 0.6611\n",
            "Epoch 16/40\n",
            "334/334 [==============================] - 24s 73ms/step - loss: 0.0749 - binary_accuracy: 0.9739 - val_loss: 1.3576 - val_binary_accuracy: 0.6686\n",
            "Epoch 17/40\n",
            "334/334 [==============================] - 24s 73ms/step - loss: 0.0718 - binary_accuracy: 0.9741 - val_loss: 1.2694 - val_binary_accuracy: 0.6843\n",
            "Epoch 18/40\n",
            "334/334 [==============================] - 24s 73ms/step - loss: 0.0741 - binary_accuracy: 0.9749 - val_loss: 1.2947 - val_binary_accuracy: 0.6738\n",
            "Epoch 19/40\n",
            "334/334 [==============================] - 24s 72ms/step - loss: 0.0645 - binary_accuracy: 0.9762 - val_loss: 1.4401 - val_binary_accuracy: 0.6817\n",
            "Epoch 20/40\n",
            "334/334 [==============================] - 24s 72ms/step - loss: 0.0692 - binary_accuracy: 0.9747 - val_loss: 1.3185 - val_binary_accuracy: 0.6839\n",
            "Epoch 21/40\n",
            "334/334 [==============================] - 25s 74ms/step - loss: 0.0663 - binary_accuracy: 0.9739 - val_loss: 1.5528 - val_binary_accuracy: 0.6751\n",
            "Epoch 22/40\n",
            "334/334 [==============================] - 24s 72ms/step - loss: 0.0627 - binary_accuracy: 0.9739 - val_loss: 1.6011 - val_binary_accuracy: 0.6813\n",
            "Epoch 23/40\n",
            "334/334 [==============================] - 24s 72ms/step - loss: 0.0599 - binary_accuracy: 0.9745 - val_loss: 1.4443 - val_binary_accuracy: 0.6861\n",
            "Epoch 24/40\n",
            "334/334 [==============================] - 24s 72ms/step - loss: 0.0565 - binary_accuracy: 0.9743 - val_loss: 1.4691 - val_binary_accuracy: 0.6826\n",
            "Epoch 25/40\n",
            "334/334 [==============================] - 24s 72ms/step - loss: 0.0559 - binary_accuracy: 0.9756 - val_loss: 1.5051 - val_binary_accuracy: 0.6813\n",
            "Epoch 26/40\n",
            "334/334 [==============================] - 24s 72ms/step - loss: 0.0547 - binary_accuracy: 0.9764 - val_loss: 1.8347 - val_binary_accuracy: 0.6756\n",
            "Epoch 27/40\n",
            "334/334 [==============================] - 24s 71ms/step - loss: 0.0517 - binary_accuracy: 0.9777 - val_loss: 1.6588 - val_binary_accuracy: 0.6861\n",
            "Epoch 28/40\n",
            "334/334 [==============================] - 24s 71ms/step - loss: 0.0521 - binary_accuracy: 0.9754 - val_loss: 1.7759 - val_binary_accuracy: 0.6808\n",
            "Epoch 29/40\n",
            "334/334 [==============================] - 24s 71ms/step - loss: 0.0488 - binary_accuracy: 0.9779 - val_loss: 1.9784 - val_binary_accuracy: 0.6629\n",
            "Epoch 30/40\n",
            "334/334 [==============================] - 24s 73ms/step - loss: 0.0476 - binary_accuracy: 0.9780 - val_loss: 2.0106 - val_binary_accuracy: 0.6865\n",
            "Epoch 31/40\n",
            "334/334 [==============================] - 24s 72ms/step - loss: 0.0471 - binary_accuracy: 0.9795 - val_loss: 2.1488 - val_binary_accuracy: 0.6786\n",
            "Epoch 32/40\n",
            "334/334 [==============================] - 24s 71ms/step - loss: 0.0470 - binary_accuracy: 0.9788 - val_loss: 2.0577 - val_binary_accuracy: 0.6778\n",
            "Epoch 33/40\n",
            "334/334 [==============================] - 24s 71ms/step - loss: 0.0446 - binary_accuracy: 0.9786 - val_loss: 1.9931 - val_binary_accuracy: 0.6725\n",
            "Epoch 34/40\n",
            "334/334 [==============================] - 24s 71ms/step - loss: 0.0513 - binary_accuracy: 0.9775 - val_loss: 1.9788 - val_binary_accuracy: 0.6646\n",
            "Epoch 35/40\n",
            "334/334 [==============================] - 24s 70ms/step - loss: 0.0449 - binary_accuracy: 0.9794 - val_loss: 1.9835 - val_binary_accuracy: 0.6848\n",
            "Epoch 36/40\n",
            "334/334 [==============================] - 24s 70ms/step - loss: 0.0473 - binary_accuracy: 0.9780 - val_loss: 1.8477 - val_binary_accuracy: 0.6725\n",
            "Epoch 37/40\n",
            "334/334 [==============================] - 24s 71ms/step - loss: 0.0489 - binary_accuracy: 0.9784 - val_loss: 2.1170 - val_binary_accuracy: 0.6699\n",
            "Epoch 38/40\n",
            "334/334 [==============================] - 24s 71ms/step - loss: 0.0439 - binary_accuracy: 0.9790 - val_loss: 2.0336 - val_binary_accuracy: 0.6795\n",
            "Epoch 39/40\n",
            "334/334 [==============================] - 24s 72ms/step - loss: 0.0428 - binary_accuracy: 0.9792 - val_loss: 2.1266 - val_binary_accuracy: 0.6729\n",
            "Epoch 40/40\n",
            "334/334 [==============================] - 24s 71ms/step - loss: 0.0408 - binary_accuracy: 0.9812 - val_loss: 1.9602 - val_binary_accuracy: 0.6791\n"
          ],
          "name": "stdout"
        }
      ]
    },
    {
      "cell_type": "code",
      "metadata": {
        "id": "8gSeA8a7J1QO",
        "colab_type": "code",
        "outputId": "4e7759c7-0b2a-4c0d-be94-23a76cdad433",
        "colab": {
          "base_uri": "https://localhost:8080/",
          "height": 279
        }
      },
      "source": [
        "import matplotlib.pyplot as plt\n",
        "\n",
        "# Visualisation du processus d'entrainement sur la loss function \n",
        "plt.plot(history.history[\"loss\"], color=\"b\")\n",
        "plt.plot(history.history[\"val_loss\"], color=\"r\")\n",
        "plt.ylabel(\"loss\")\n",
        "plt.xlabel(\"Epochs\")\n",
        "plt.show()"
      ],
      "execution_count": 0,
      "outputs": [
        {
          "output_type": "display_data",
          "data": {
            "image/png": "[encoded data removed]",
            "text/plain": [
              "<Figure size 432x288 with 1 Axes>"
            ]
          },
          "metadata": {
            "tags": [],
            "needs_background": "light"
          }
        }
      ]
    },
    {
      "cell_type": "code",
      "metadata": {
        "id": "s_x-mkqAJ4yY",
        "colab_type": "code",
        "outputId": "beeb6960-5059-4947-ea7d-1a56d50d24f2",
        "colab": {
          "base_uri": "https://localhost:8080/",
          "height": 1000
        }
      },
      "source": [
        "history.history"
      ],
      "execution_count": 0,
      "outputs": [
        {
          "output_type": "execute_result",
          "data": {
            "text/plain": [
              "{'binary_accuracy': [0.5792831778526306,\n",
              "  0.7813848853111267,\n",
              "  0.8511915802955627,\n",
              "  0.8892850279808044,\n",
              "  0.9161193370819092,\n",
              "  0.9309439063072205,\n",
              "  0.9453931450843811,\n",
              "  0.9530869126319885,\n",
              "  0.9583411812782288,\n",
              "  0.9602176547050476,\n",
              "  0.9641583561897278,\n",
              "  0.9675361514091492,\n",
              "  0.9703509211540222,\n",
              "  0.9714768528938293,\n",
              "  0.9726027250289917,\n",
              "  0.9739162921905518,\n",
              "  0.9741039872169495,\n",
              "  0.974854588508606,\n",
              "  0.976168155670166,\n",
              "  0.9746668934822083,\n",
              "  0.9739162921905518,\n",
              "  0.9739162921905518,\n",
              "  0.9744792580604553,\n",
              "  0.9742916226387024,\n",
              "  0.9756051898002625,\n",
              "  0.976355791091919,\n",
              "  0.977669358253479,\n",
              "  0.9754175543785095,\n",
              "  0.9778569936752319,\n",
              "  0.9780446887016296,\n",
              "  0.9795458912849426,\n",
              "  0.9787952899932861,\n",
              "  0.9786075949668884,\n",
              "  0.9774817228317261,\n",
              "  0.9793582558631897,\n",
              "  0.9780446887016296,\n",
              "  0.9784199595451355,\n",
              "  0.9789829254150391,\n",
              "  0.979170560836792,\n",
              "  0.9812347292900085],\n",
              " 'loss': [0.6774015426635742,\n",
              "  0.5063549280166626,\n",
              "  0.37344619631767273,\n",
              "  0.29612165689468384,\n",
              "  0.24094262719154358,\n",
              "  0.20268921554088593,\n",
              "  0.16599628329277039,\n",
              "  0.14059937000274658,\n",
              "  0.12826643884181976,\n",
              "  0.11599759757518768,\n",
              "  0.10835921764373779,\n",
              "  0.09698394685983658,\n",
              "  0.08824329078197479,\n",
              "  0.08725050836801529,\n",
              "  0.07644007354974747,\n",
              "  0.0748971700668335,\n",
              "  0.07179902493953705,\n",
              "  0.07409996539354324,\n",
              "  0.06446456164121628,\n",
              "  0.06923921406269073,\n",
              "  0.06634606420993805,\n",
              "  0.06271876394748688,\n",
              "  0.05987980589270592,\n",
              "  0.05648072808980942,\n",
              "  0.05591708794236183,\n",
              "  0.05473322421312332,\n",
              "  0.05174368619918823,\n",
              "  0.052129391580820084,\n",
              "  0.04884416610002518,\n",
              "  0.04764110594987869,\n",
              "  0.04711338132619858,\n",
              "  0.04702116549015045,\n",
              "  0.04456504434347153,\n",
              "  0.05129313841462135,\n",
              "  0.04492073133587837,\n",
              "  0.04730745404958725,\n",
              "  0.048926737159490585,\n",
              "  0.043862711638212204,\n",
              "  0.04276234656572342,\n",
              "  0.04077700898051262],\n",
              " 'val_binary_accuracy': [0.6589316725730896,\n",
              "  0.7451838850975037,\n",
              "  0.7570052742958069,\n",
              "  0.7473730444908142,\n",
              "  0.7346760034561157,\n",
              "  0.7237303256988525,\n",
              "  0.7000875473022461,\n",
              "  0.6952714323997498,\n",
              "  0.6939579844474792,\n",
              "  0.6746935248374939,\n",
              "  0.6856392025947571,\n",
              "  0.6492995023727417,\n",
              "  0.6852014064788818,\n",
              "  0.6698774099349976,\n",
              "  0.6611208319664001,\n",
              "  0.6685639023780823,\n",
              "  0.6843257546424866,\n",
              "  0.6738178730010986,\n",
              "  0.6816987991333008,\n",
              "  0.6838878989219666,\n",
              "  0.6751313209533691,\n",
              "  0.6812609434127808,\n",
              "  0.6860770583152771,\n",
              "  0.682574450969696,\n",
              "  0.6812609434127808,\n",
              "  0.6755691766738892,\n",
              "  0.6860770583152771,\n",
              "  0.6808230876922607,\n",
              "  0.6628721356391907,\n",
              "  0.6865149140357971,\n",
              "  0.678633987903595,\n",
              "  0.6777583360671997,\n",
              "  0.6725043654441833,\n",
              "  0.6646234393119812,\n",
              "  0.6847635507583618,\n",
              "  0.6725043654441833,\n",
              "  0.6698774099349976,\n",
              "  0.6795096397399902,\n",
              "  0.6729422211647034,\n",
              "  0.6790717840194702],\n",
              " 'val_loss': [0.6265960931777954,\n",
              "  0.5285072922706604,\n",
              "  0.5267700552940369,\n",
              "  0.5491111278533936,\n",
              "  0.6446720957756042,\n",
              "  0.752525806427002,\n",
              "  0.7919600009918213,\n",
              "  0.8462997674942017,\n",
              "  0.7763193249702454,\n",
              "  1.02549409866333,\n",
              "  0.9755719304084778,\n",
              "  1.1969114542007446,\n",
              "  1.0910145044326782,\n",
              "  1.1435989141464233,\n",
              "  1.292253851890564,\n",
              "  1.3576489686965942,\n",
              "  1.269443154335022,\n",
              "  1.2947193384170532,\n",
              "  1.4400914907455444,\n",
              "  1.3185476064682007,\n",
              "  1.5528497695922852,\n",
              "  1.6011000871658325,\n",
              "  1.444295048713684,\n",
              "  1.4690698385238647,\n",
              "  1.5050642490386963,\n",
              "  1.8347102403640747,\n",
              "  1.6588352918624878,\n",
              "  1.7759301662445068,\n",
              "  1.9783554077148438,\n",
              "  2.0105702877044678,\n",
              "  2.1488327980041504,\n",
              "  2.0576698780059814,\n",
              "  1.9930992126464844,\n",
              "  1.9788259267807007,\n",
              "  1.9835162162780762,\n",
              "  1.8477458953857422,\n",
              "  2.1169748306274414,\n",
              "  2.033571720123291,\n",
              "  2.126638650894165,\n",
              "  1.9601521492004395]}"
            ]
          },
          "metadata": {
            "tags": []
          },
          "execution_count": 21
        }
      ]
    },
    {
      "cell_type": "code",
      "metadata": {
        "id": "ZVygHhYWJ2LR",
        "colab_type": "code",
        "outputId": "8fb48c5f-e2d9-4b0d-b28b-d30e3f757a41",
        "colab": {
          "base_uri": "https://localhost:8080/",
          "height": 283
        }
      },
      "source": [
        "# Visualisation de l'entrainement sur l'accuracy \n",
        "plt.plot(history.history[\"binary_accuracy\"], color=\"b\")\n",
        "plt.plot(history.history[\"val_binary_accuracy\"], color=\"r\")\n",
        "plt.ylabel(\"accuracy\")\n",
        "plt.xlabel(\"Epochs\")\n",
        "plt.show()"
      ],
      "execution_count": 0,
      "outputs": [
        {
          "output_type": "display_data",
          "data": {
            "image/png": "[encoded data removed]",
            "text/plain": [
              "<Figure size 432x288 with 1 Axes>"
            ]
          },
          "metadata": {
            "tags": [],
            "needs_background": "light"
          }
        }
      ]
    },
    {
      "cell_type": "code",
      "metadata": {
        "id": "9Pwu-d5PKEfL",
        "colab_type": "code",
        "colab": {}
      },
      "source": [
        ""
      ],
      "execution_count": 0,
      "outputs": []
    }
  ]
}